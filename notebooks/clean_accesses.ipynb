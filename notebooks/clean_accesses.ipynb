{
 "cells": [
  {
   "cell_type": "markdown",
   "metadata": {},
   "source": [
    "This notebook investigates the service areas starting points, to make sure they are associated to a road."
   ]
  },
  {
   "cell_type": "code",
   "execution_count": 9,
   "metadata": {},
   "outputs": [],
   "source": [
    "import geopandas as gpd\n",
    "import os\n",
    "from shapely.strtree import STRtree\n",
    "import fiona"
   ]
  },
  {
   "cell_type": "code",
   "execution_count": 25,
   "metadata": {},
   "outputs": [],
   "source": [
    "data = os.path.join(\"..\\\\data\\\\final\\\\Tokyo_UGS_accessibility.gpkg\")\n",
    "ugs = gpd.read_file(data, layer = 'merged_ugs')\n",
    "roads = gpd.read_file(data, layer = 'road_network')\n",
    "roads_tree = STRtree(roads[\"geometry\"].values) # creates a spatial index\n",
    "road_sindex = roads.sindex\n",
    "census_centroids = gpd.read_file(data, layer ='census_centroids')\n",
    "accesses = gpd.read_file(data, layer = 'access_points_merged_parks')\n"
   ]
  },
  {
   "cell_type": "markdown",
   "metadata": {},
   "source": [
    "Fix the accesses dataframe\n"
   ]
  },
  {
   "cell_type": "code",
   "execution_count": 26,
   "metadata": {},
   "outputs": [
    {
     "data": {
      "text/plain": [
       "Index(['area', 'CODE5', 'NAME1', 'NAME2', 'park_id', 'id_access', 'geometry'], dtype='object')"
      ]
     },
     "execution_count": 26,
     "metadata": {},
     "output_type": "execute_result"
    }
   ],
   "source": [
    "old_accesses = gpd.read_file(data, layer = 'cleaned_park_accesses')\n",
    "old_accesses.columns"
   ]
  },
  {
   "cell_type": "code",
   "execution_count": 27,
   "metadata": {},
   "outputs": [],
   "source": [
    "accesses[\"id_access\"] = range(1,len(accesses)+1)\n",
    "accesses = accesses[['area', 'CODE5', 'NAME1', 'NAME2', 'park_id', 'id_access', 'geometry']].copy()\n"
   ]
  },
  {
   "cell_type": "code",
   "execution_count": 30,
   "metadata": {},
   "outputs": [],
   "source": [
    "def distance_to_nearest_road(point, spatial_index):\n",
    "    nearby_indices = spatial_index.query(point.buffer(50)) \n",
    "    nearby_roads = roads[\"geometry\"].iloc[nearby_indices]\n",
    "    if len(nearby_roads) > 0:\n",
    "        nearest_geom = min(nearby_roads, key=lambda road: point.distance(road))\n",
    "        return point.distance(nearest_geom)\n",
    "    else:\n",
    "        return float('inf')  # Infinite distance if no nearby roads found"
   ]
  },
  {
   "cell_type": "code",
   "execution_count": 31,
   "metadata": {},
   "outputs": [],
   "source": [
    "# Apply to the accesses GeoDataFrame\n",
    "accesses[\"distance_to_road\"] = accesses[\"geometry\"].apply(lambda point: distance_to_nearest_road(point, roads_tree))\n",
    "census_centroids[\"distance_to_road\"] = census_centroids[\"geometry\"].apply(lambda point: distance_to_nearest_road(point, roads_tree))\n",
    "\n",
    "far_accesses = accesses[accesses['distance_to_road'] > 1]\n",
    "far_census = census_centroids[census_centroids['distance_to_road'] > 1]"
   ]
  },
  {
   "cell_type": "code",
   "execution_count": 32,
   "metadata": {},
   "outputs": [
    {
     "name": "stdout",
     "output_type": "stream",
     "text": [
      "There are 183 access points that are not on roads\n",
      "There are 0 census centroids that are not on roads\n"
     ]
    }
   ],
   "source": [
    "print(f\"There are {len(far_accesses)} access points that are not on roads\")\n",
    "print(f\"There are {len(far_census)} census centroids that are not on roads\")"
   ]
  },
  {
   "cell_type": "markdown",
   "metadata": {},
   "source": [
    "Census points are not an issue. Let's find if there are parks with zero access points "
   ]
  },
  {
   "cell_type": "code",
   "execution_count": 33,
   "metadata": {},
   "outputs": [
    {
     "data": {
      "text/plain": [
       "array([  60,  287,  533,  535,  547,  807,  837,  905,  981, 1241, 1248,\n",
       "       1285, 1574, 1655, 2350, 2627, 2651, 2655, 2705, 2928, 3267, 3421,\n",
       "       3694, 3828, 3951, 3986, 4057, 4217, 4250, 4308, 4478, 4512, 4513,\n",
       "       4679, 4727, 4749, 4757, 4921, 4963, 4971, 4976, 4980, 4989, 4993,\n",
       "       4996, 5036, 5157, 5196, 5197, 5198, 5199, 5229, 5242, 5300, 5313,\n",
       "       5340, 5341, 5349, 5469, 5474, 5475, 5480, 5493, 5496, 5736, 5747,\n",
       "       5749, 5750, 5771, 5800, 6019, 6023, 6024, 6038, 6040, 6100, 6123,\n",
       "       6184, 6207, 6314, 6341, 6345, 6367, 6385, 6481, 6482, 6498, 6587,\n",
       "       6592, 6605, 6625, 6741, 6827, 6834, 6981, 7049, 7051, 7164, 7280,\n",
       "       7375, 7516, 7605, 7734, 7758, 7766, 7768, 7924, 8005, 8278, 8318])"
      ]
     },
     "execution_count": 33,
     "metadata": {},
     "output_type": "execute_result"
    }
   ],
   "source": [
    "far_accesses['park_id'].unique() # there are 68 parks with accesses that are not on the road ## Now I changed the parks layer so numbers are not reliable"
   ]
  },
  {
   "cell_type": "code",
   "execution_count": 34,
   "metadata": {},
   "outputs": [],
   "source": [
    "# I want to find what parks have all their accesses in \"far\" accesses \n",
    "# each access has a park_id and an id_access\n",
    "\n",
    "parks_remote_access = far_accesses['park_id'].unique().tolist()\n",
    "\n",
    "# for parks with remote accessess, find how many\n",
    "far_accesses.groupby(\"park_id\")[\"id_access\"].count()\n",
    "\n",
    "# create dictionary with park id and number of remote accesses\n",
    "park_remote_accesses_counts = far_accesses.groupby(\"park_id\")[\"id_access\"].count().to_dict()\n",
    "park_accesses_counts = accesses.groupby(\"park_id\")['id_access'].count().to_dict()    \n"
   ]
  },
  {
   "cell_type": "code",
   "execution_count": 35,
   "metadata": {},
   "outputs": [],
   "source": [
    "remote_parks = []\n",
    "for park_id, count in park_remote_accesses_counts.items():\n",
    "    total_accesses = park_accesses_counts[park_id]\n",
    "    non_remote_accesses = total_accesses - count\n",
    "    if non_remote_accesses == 0:\n",
    "        remote_parks.append(park_id)\n"
   ]
  },
  {
   "cell_type": "code",
   "execution_count": 43,
   "metadata": {},
   "outputs": [],
   "source": [
    "parks_no_access = ugs[ugs[\"park_id\"].isin(remote_parks)] \n",
    "parks_no_access.to_file('remote_parks.geojson')\n",
    "\n",
    "# now the 'remote' parks can be visualized in QGIS. After checking them I decided to just discard the remote park accesses\n"
   ]
  },
  {
   "cell_type": "code",
   "execution_count": 36,
   "metadata": {},
   "outputs": [],
   "source": [
    "final_accesses = accesses[accesses['distance_to_road'] < 1]"
   ]
  },
  {
   "cell_type": "code",
   "execution_count": 37,
   "metadata": {},
   "outputs": [
    {
     "name": "stdout",
     "output_type": "stream",
     "text": [
      "Total number of accesses: 18014\n",
      "Final number of accesses: 17831\n",
      "Remote accesses: 183\n"
     ]
    }
   ],
   "source": [
    "print(f\"Total number of accesses: {accesses.shape[0]}\")\n",
    "print(f\"Final number of accesses: {final_accesses.shape[0]}\")\n",
    "print(f\"Remote accesses: {far_accesses.shape[0]}\")"
   ]
  },
  {
   "cell_type": "code",
   "execution_count": 38,
   "metadata": {},
   "outputs": [],
   "source": [
    "# make sure I actually removed the correct thing\n",
    "assert accesses.shape[0]- final_accesses.shape[0] == far_accesses.shape[0]"
   ]
  },
  {
   "cell_type": "code",
   "execution_count": 41,
   "metadata": {},
   "outputs": [],
   "source": [
    "# export the final accesses:\n",
    "\n",
    "final_accesses.to_file(data, layer=\"cleaned_merged_park_accesses\", driver=\"GPKG\", index=False)"
   ]
  },
  {
   "cell_type": "code",
   "execution_count": 42,
   "metadata": {},
   "outputs": [],
   "source": [
    "assert final_accesses['id_access'].is_unique, \"Duplicate id_access values found!\"\n",
    "assert final_accesses.columns.is_unique, \"Column names are not unique!\""
   ]
  },
  {
   "cell_type": "code",
   "execution_count": 67,
   "metadata": {},
   "outputs": [],
   "source": [
    "#final_accesses = final_accesses.rename(columns=lambda x: x.replace(\" \", \"_\").replace(\"-\", \"_\"))"
   ]
  },
  {
   "cell_type": "code",
   "execution_count": 43,
   "metadata": {},
   "outputs": [
    {
     "data": {
      "text/html": [
       "<div>\n",
       "<style scoped>\n",
       "    .dataframe tbody tr th:only-of-type {\n",
       "        vertical-align: middle;\n",
       "    }\n",
       "\n",
       "    .dataframe tbody tr th {\n",
       "        vertical-align: top;\n",
       "    }\n",
       "\n",
       "    .dataframe thead th {\n",
       "        text-align: right;\n",
       "    }\n",
       "</style>\n",
       "<table border=\"1\" class=\"dataframe\">\n",
       "  <thead>\n",
       "    <tr style=\"text-align: right;\">\n",
       "      <th></th>\n",
       "      <th>area</th>\n",
       "      <th>CODE5</th>\n",
       "      <th>NAME1</th>\n",
       "      <th>NAME2</th>\n",
       "      <th>park_id</th>\n",
       "      <th>id_access</th>\n",
       "      <th>geometry</th>\n",
       "      <th>distance_to_road</th>\n",
       "    </tr>\n",
       "  </thead>\n",
       "  <tbody>\n",
       "    <tr>\n",
       "      <th>0</th>\n",
       "      <td>73307.720609</td>\n",
       "      <td>1.310104e+10</td>\n",
       "      <td>千代田区</td>\n",
       "      <td>九段南二丁目</td>\n",
       "      <td>1</td>\n",
       "      <td>1</td>\n",
       "      <td>POINT (372258.809 3942811.644)</td>\n",
       "      <td>2.261011e-10</td>\n",
       "    </tr>\n",
       "    <tr>\n",
       "      <th>1</th>\n",
       "      <td>73307.720609</td>\n",
       "      <td>1.310104e+10</td>\n",
       "      <td>千代田区</td>\n",
       "      <td>九段南二丁目</td>\n",
       "      <td>1</td>\n",
       "      <td>2</td>\n",
       "      <td>POINT (372887.24 3942774.412)</td>\n",
       "      <td>1.475196e-10</td>\n",
       "    </tr>\n",
       "    <tr>\n",
       "      <th>2</th>\n",
       "      <td>73307.720609</td>\n",
       "      <td>1.310104e+10</td>\n",
       "      <td>千代田区</td>\n",
       "      <td>九段南二丁目</td>\n",
       "      <td>1</td>\n",
       "      <td>3</td>\n",
       "      <td>POINT (372880.569 3942774.265)</td>\n",
       "      <td>5.373042e-11</td>\n",
       "    </tr>\n",
       "    <tr>\n",
       "      <th>3</th>\n",
       "      <td>73307.720609</td>\n",
       "      <td>1.310104e+10</td>\n",
       "      <td>千代田区</td>\n",
       "      <td>九段南二丁目</td>\n",
       "      <td>1</td>\n",
       "      <td>4</td>\n",
       "      <td>POINT (372878.985 3942775.678)</td>\n",
       "      <td>2.284227e-11</td>\n",
       "    </tr>\n",
       "    <tr>\n",
       "      <th>4</th>\n",
       "      <td>73307.720609</td>\n",
       "      <td>1.310104e+10</td>\n",
       "      <td>千代田区</td>\n",
       "      <td>九段南二丁目</td>\n",
       "      <td>1</td>\n",
       "      <td>5</td>\n",
       "      <td>POINT (372967.947 3942756.225)</td>\n",
       "      <td>1.222850e-10</td>\n",
       "    </tr>\n",
       "    <tr>\n",
       "      <th>...</th>\n",
       "      <td>...</td>\n",
       "      <td>...</td>\n",
       "      <td>...</td>\n",
       "      <td>...</td>\n",
       "      <td>...</td>\n",
       "      <td>...</td>\n",
       "      <td>...</td>\n",
       "      <td>...</td>\n",
       "    </tr>\n",
       "    <tr>\n",
       "      <th>18009</th>\n",
       "      <td>69.856182</td>\n",
       "      <td>1.310104e+10</td>\n",
       "      <td>千代田区</td>\n",
       "      <td>九段南二丁目</td>\n",
       "      <td>8422</td>\n",
       "      <td>18010</td>\n",
       "      <td>POINT (399899.479 3956182.21)</td>\n",
       "      <td>0.000000e+00</td>\n",
       "    </tr>\n",
       "    <tr>\n",
       "      <th>18010</th>\n",
       "      <td>640.066502</td>\n",
       "      <td>1.310104e+10</td>\n",
       "      <td>千代田区</td>\n",
       "      <td>九段南二丁目</td>\n",
       "      <td>8423</td>\n",
       "      <td>18011</td>\n",
       "      <td>POINT (399297.971 3956263.123)</td>\n",
       "      <td>3.355028e-11</td>\n",
       "    </tr>\n",
       "    <tr>\n",
       "      <th>18011</th>\n",
       "      <td>443.747043</td>\n",
       "      <td>1.310104e+10</td>\n",
       "      <td>千代田区</td>\n",
       "      <td>九段南二丁目</td>\n",
       "      <td>8424</td>\n",
       "      <td>18012</td>\n",
       "      <td>POINT (399474.511 3956279.15)</td>\n",
       "      <td>2.802807e-11</td>\n",
       "    </tr>\n",
       "    <tr>\n",
       "      <th>18012</th>\n",
       "      <td>399.711129</td>\n",
       "      <td>1.310104e+10</td>\n",
       "      <td>千代田区</td>\n",
       "      <td>九段南二丁目</td>\n",
       "      <td>8425</td>\n",
       "      <td>18013</td>\n",
       "      <td>POINT (399642.024 3956268.691)</td>\n",
       "      <td>1.620954e-10</td>\n",
       "    </tr>\n",
       "    <tr>\n",
       "      <th>18013</th>\n",
       "      <td>655.262491</td>\n",
       "      <td>1.310104e+10</td>\n",
       "      <td>千代田区</td>\n",
       "      <td>九段南二丁目</td>\n",
       "      <td>8428</td>\n",
       "      <td>18014</td>\n",
       "      <td>POINT (399424.977 3960132.276)</td>\n",
       "      <td>1.562133e-10</td>\n",
       "    </tr>\n",
       "  </tbody>\n",
       "</table>\n",
       "<p>17831 rows × 8 columns</p>\n",
       "</div>"
      ],
      "text/plain": [
       "               area         CODE5 NAME1   NAME2  park_id  id_access  \\\n",
       "0      73307.720609  1.310104e+10  千代田区  九段南二丁目        1          1   \n",
       "1      73307.720609  1.310104e+10  千代田区  九段南二丁目        1          2   \n",
       "2      73307.720609  1.310104e+10  千代田区  九段南二丁目        1          3   \n",
       "3      73307.720609  1.310104e+10  千代田区  九段南二丁目        1          4   \n",
       "4      73307.720609  1.310104e+10  千代田区  九段南二丁目        1          5   \n",
       "...             ...           ...   ...     ...      ...        ...   \n",
       "18009     69.856182  1.310104e+10  千代田区  九段南二丁目     8422      18010   \n",
       "18010    640.066502  1.310104e+10  千代田区  九段南二丁目     8423      18011   \n",
       "18011    443.747043  1.310104e+10  千代田区  九段南二丁目     8424      18012   \n",
       "18012    399.711129  1.310104e+10  千代田区  九段南二丁目     8425      18013   \n",
       "18013    655.262491  1.310104e+10  千代田区  九段南二丁目     8428      18014   \n",
       "\n",
       "                             geometry  distance_to_road  \n",
       "0      POINT (372258.809 3942811.644)      2.261011e-10  \n",
       "1       POINT (372887.24 3942774.412)      1.475196e-10  \n",
       "2      POINT (372880.569 3942774.265)      5.373042e-11  \n",
       "3      POINT (372878.985 3942775.678)      2.284227e-11  \n",
       "4      POINT (372967.947 3942756.225)      1.222850e-10  \n",
       "...                               ...               ...  \n",
       "18009   POINT (399899.479 3956182.21)      0.000000e+00  \n",
       "18010  POINT (399297.971 3956263.123)      3.355028e-11  \n",
       "18011   POINT (399474.511 3956279.15)      2.802807e-11  \n",
       "18012  POINT (399642.024 3956268.691)      1.620954e-10  \n",
       "18013  POINT (399424.977 3960132.276)      1.562133e-10  \n",
       "\n",
       "[17831 rows x 8 columns]"
      ]
     },
     "execution_count": 43,
     "metadata": {},
     "output_type": "execute_result"
    }
   ],
   "source": [
    "final_accesses"
   ]
  },
  {
   "cell_type": "code",
   "execution_count": null,
   "metadata": {},
   "outputs": [],
   "source": []
  }
 ],
 "metadata": {
  "kernelspec": {
   "display_name": "spatial",
   "language": "python",
   "name": "python3"
  },
  "language_info": {
   "codemirror_mode": {
    "name": "ipython",
    "version": 3
   },
   "file_extension": ".py",
   "mimetype": "text/x-python",
   "name": "python",
   "nbconvert_exporter": "python",
   "pygments_lexer": "ipython3",
   "version": "3.13.1"
  }
 },
 "nbformat": 4,
 "nbformat_minor": 2
}
