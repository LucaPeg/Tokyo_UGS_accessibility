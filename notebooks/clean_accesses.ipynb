{
 "cells": [
  {
   "cell_type": "markdown",
   "metadata": {},
   "source": [
    "This notebook investigates the service areas starting points, to make sure they are associated to a road."
   ]
  },
  {
   "cell_type": "code",
   "execution_count": 2,
   "metadata": {},
   "outputs": [],
   "source": [
    "import geopandas as gpd\n",
    "import os\n",
    "from shapely.strtree import STRtree"
   ]
  },
  {
   "cell_type": "code",
   "execution_count": 8,
   "metadata": {},
   "outputs": [],
   "source": [
    "data = os.path.join(\"..\\\\data\\\\final\\\\Tokyo_UGS_accessibility.gpkg\")\n",
    "ugs = gpd.read_file(data, layer = 'ugs')\n",
    "roads = gpd.read_file(data, layer = 'road_network')\n",
    "roads_tree = STRtree(roads[\"geometry\"].values) # creates a spatial index\n",
    "road_sindex = roads.sindex # create spatial index for efficiency\n",
    "census_centroids = gpd.read_file(data, layer ='census_centroids')\n",
    "accesses = gpd.read_file(data, layer = 'access_points')"
   ]
  },
  {
   "cell_type": "code",
   "execution_count": 5,
   "metadata": {},
   "outputs": [],
   "source": [
    "def distance_to_nearest_road(point, spatial_index):\n",
    "    nearby_indices = spatial_index.query(point.buffer(50)) \n",
    "    nearby_roads = roads[\"geometry\"].iloc[nearby_indices]\n",
    "    if len(nearby_roads) > 0:\n",
    "        nearest_geom = min(nearby_roads, key=lambda road: point.distance(road))\n",
    "        return point.distance(nearest_geom)\n",
    "    else:\n",
    "        return float('inf')  # Infinite distance if no nearby roads found"
   ]
  },
  {
   "cell_type": "code",
   "execution_count": null,
   "metadata": {},
   "outputs": [],
   "source": [
    "# Apply to the accesses GeoDataFrame\n",
    "accesses[\"distance_to_road\"] = accesses[\"geometry\"].apply(lambda point: distance_to_nearest_road(point, roads_tree))\n",
    "census_centroids[\"distance_to_road\"] = census_centroids[\"geometry\"].apply(lambda point: distance_to_nearest_road(point, roads_tree))\n",
    "\n",
    "far_accesses = accesses[accesses['distance_to_road'] > 1]\n",
    "far_census = census_centroids[census_centroids['distance_to_road'] > 1]"
   ]
  },
  {
   "cell_type": "code",
   "execution_count": null,
   "metadata": {},
   "outputs": [],
   "source": [
    "print(f\"There are {len(far_accesses)} access points that are not on roads\")\n",
    "print(f\"There are {len(far_census)} census centroids that are not on roads\")"
   ]
  },
  {
   "cell_type": "markdown",
   "metadata": {},
   "source": [
    "Census points are not an issue. Let's find if there are parks with zero access points "
   ]
  },
  {
   "cell_type": "code",
   "execution_count": 11,
   "metadata": {},
   "outputs": [],
   "source": [
    "ugs = gpd.read_file(data, layer = 'ugs')"
   ]
  },
  {
   "cell_type": "code",
   "execution_count": null,
   "metadata": {},
   "outputs": [],
   "source": [
    "far_accesses['park_id'].unique() # there are 68 parks with accesses that are not on the road"
   ]
  },
  {
   "cell_type": "code",
   "execution_count": null,
   "metadata": {},
   "outputs": [],
   "source": [
    "# I want to find what parks have all their accesses in \"far\" accesses \n",
    "# each access has a park_id and an id_access\n",
    "\n",
    "parks_remote_access = far_accesses['park_id'].unique().tolist()\n",
    "\n",
    "# for parks with remote accessess, find how many\n",
    "far_accesses.groupby(\"park_id\")[\"id_access\"].count()\n",
    "\n",
    "# create dictionary with park id and number of remote accesses\n",
    "park_remote_accesses_counts = far_accesses.groupby(\"park_id\")[\"id_access\"].count().to_dict()\n",
    "park_accesses_counts = accesses.groupby(\"park_id\")['id_access'].count().to_dict()    \n"
   ]
  },
  {
   "cell_type": "code",
   "execution_count": 35,
   "metadata": {},
   "outputs": [],
   "source": [
    "remote_parks = []\n",
    "for park_id, count in park_remote_accesses_counts.items():\n",
    "    total_accesses = park_accesses_counts[park_id]\n",
    "    non_remote_accesses = total_accesses - count\n",
    "    if non_remote_accesses == 0:\n",
    "        remote_parks.append(park_id)\n"
   ]
  },
  {
   "cell_type": "code",
   "execution_count": 43,
   "metadata": {},
   "outputs": [],
   "source": [
    "parks_no_access = ugs[ugs[\"park_id\"].isin(remote_parks)] \n",
    "parks_no_access.to_file('remote_parks.geojson')\n",
    "\n",
    "# now the 'remote' parks can be visualized in QGIS. After checking them I decided to just discard the remote park accesses\n"
   ]
  },
  {
   "cell_type": "code",
   "execution_count": null,
   "metadata": {},
   "outputs": [],
   "source": [
    "final_accesses = accesses[accesses['distance_to_road'] < 1]"
   ]
  },
  {
   "cell_type": "code",
   "execution_count": null,
   "metadata": {},
   "outputs": [],
   "source": [
    "print(f\"Total number of accesses: {accesses.shape[0]}\")\n",
    "print(f\"Final number of accesses: {final_accesses.shape[0]}\")\n",
    "print(f\"Remote accesses: {far_accesses.shape[0]}\")"
   ]
  },
  {
   "cell_type": "code",
   "execution_count": 55,
   "metadata": {},
   "outputs": [],
   "source": [
    "# make sure I actually removed the correct thing\n",
    "assert accesses.shape[0]- final_accesses.shape[0] == far_accesses.shape[0]"
   ]
  },
  {
   "cell_type": "code",
   "execution_count": null,
   "metadata": {},
   "outputs": [],
   "source": [
    "# export the final accesses:\n",
    "\n",
    "final_accesses.to_file(\"Tokyo_UGS_accessibility.gpkg\", layer=\"cleaned_park_accesses\", driver=\"GPKG\", index=False)"
   ]
  },
  {
   "cell_type": "code",
   "execution_count": 66,
   "metadata": {},
   "outputs": [],
   "source": [
    "assert final_accesses['id_access'].is_unique, \"Duplicate id_access values found!\"\n",
    "assert final_accesses.columns.is_unique, \"Column names are not unique!\""
   ]
  },
  {
   "cell_type": "code",
   "execution_count": 67,
   "metadata": {},
   "outputs": [],
   "source": [
    "final_accesses = final_accesses.rename(columns=lambda x: x.replace(\" \", \"_\").replace(\"-\", \"_\"))"
   ]
  },
  {
   "cell_type": "code",
   "execution_count": null,
   "metadata": {},
   "outputs": [],
   "source": [
    "columns_to_keep = ['area','CODE5','NAME1','NAME2','park_id','id_access','geometry']\n",
    "cleaned_accesses = final_accesses.loc[: , columns_to_keep]\n",
    "\n",
    "cleaned_accesses\n"
   ]
  },
  {
   "cell_type": "code",
   "execution_count": 85,
   "metadata": {},
   "outputs": [],
   "source": [
    "cleaned_accesses.to_file(data, layer=\"cleaned_park_accesses\", driver=\"GPKG\", index=False)"
   ]
  }
 ],
 "metadata": {
  "kernelspec": {
   "display_name": "spatial",
   "language": "python",
   "name": "python3"
  },
  "language_info": {
   "codemirror_mode": {
    "name": "ipython",
    "version": 3
   },
   "file_extension": ".py",
   "mimetype": "text/x-python",
   "name": "python",
   "nbconvert_exporter": "python",
   "pygments_lexer": "ipython3",
   "version": "3.13.1"
  }
 },
 "nbformat": 4,
 "nbformat_minor": 2
}
